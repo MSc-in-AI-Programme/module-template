{
 "cells": [
  {
   "cell_type": "markdown",
   "metadata": {},
   "source": [
    "\n",
    "# Activity 1: Data Preprocessing\n",
    "\n",
    "- Topic: [Python Topic/Concept]  \n",
    "\n",
    "- Duration: [Estimated time to complete]  \n",
    "\n",
    " \n",
    "\n",
    "### Purpose and Aims \n",
    "\n",
    " A short statement outlining the purpose of the activity and the aim from a student's perspective \n",
    "\n",
    "\n",
    "### Learning Objectives  \n",
    "\n",
    "By completing this activity, you will be able to:  \n",
    "\n",
    "[Objective 1 - Use an action verb \n",
    "\n",
    "[Objective 2]  \n",
    "\n",
    "[Objective 3]  \n",
    "\n",
    "  \n",
    "\n",
    "### Context and Problem Statement  \n",
    "\n",
    "Provide a brief, engaging introduction that:  \n",
    "\n",
    "Explains the real-world relevance of this coding task  \n",
    "\n",
    "Describes a problem or scenario that requires Python to solve  \n",
    "\n",
    "Connects to concepts students have already learned  \n",
    "\n",
    "  \n",
    "\n",
    "### Step-by-Step Instructions  \n",
    "\n",
    "- Step 1: [Brief description of this step]  \n",
    "\n",
    "- Task: [Clearly describe what students need to do]  \n",
    "\n",
    "**Hints:**\n",
    "\n",
    "Provide guidance without giving away the solution  \n",
    "\n",
    "Include references to relevant documentation  \n",
    "\n",
    "- Step 2: [Brief description of this step]  \n",
    "\n",
    "- Task: [Clearly describe what students need to do]  \n",
    "\n",
    "[Continue with additional steps as needed]  \n",
    "\n",
    " \n",
    "\n",
    "### Challenge Extensions (Optional)  \n",
    "\n",
    "For students who finish early or want more practice:  \n",
    "\n",
    "- Additional challenge 1  \n",
    "\n",
    "- Additional challenge 2  \n",
    "\n",
    "  \n",
    "\n",
    "### Solution  \n",
    "\n",
    "Include a working solution for instructors' reference  \n",
    "  \n",
    "\n",
    "### Additional Resources  \n",
    "\n",
    "- Resource 1: Include title, link, and brief description  \n",
    "\n",
    "- Resource 2: Include title, link, and brief description  \n",
    "\n",
    "- Resource 3: Include title, link, and brief description  "
   ]
  },
  {
   "cell_type": "code",
   "execution_count": null,
   "metadata": {},
   "outputs": [],
   "source": [
    "from matplotlib import rcParams, cycler\n",
    "import matplotlib.pyplot as plt\n",
    "import numpy as np\n",
    "plt.ion()"
   ]
  },
  {
   "cell_type": "code",
   "execution_count": null,
   "metadata": {},
   "outputs": [],
   "source": [
    "# Fixing random state for reproducibility\n",
    "np.random.seed(19680801)\n",
    "\n",
    "N = 10\n",
    "data = [np.logspace(0, 1, 100) + np.random.randn(100) + ii for ii in range(N)]\n",
    "data = np.array(data).T\n",
    "cmap = plt.cm.coolwarm\n",
    "rcParams['axes.prop_cycle'] = cycler(color=cmap(np.linspace(0, 1, N)))\n",
    "\n",
    "\n",
    "from matplotlib.lines import Line2D\n",
    "custom_lines = [Line2D([0], [0], color=cmap(0.), lw=4),\n",
    "                Line2D([0], [0], color=cmap(.5), lw=4),\n",
    "                Line2D([0], [0], color=cmap(1.), lw=4)]\n",
    "\n",
    "fig, ax = plt.subplots(figsize=(10, 5))\n",
    "lines = ax.plot(data)\n",
    "ax.legend(custom_lines, ['Cold', 'Medium', 'Hot']);"
   ]
  },
  {
   "cell_type": "markdown",
   "metadata": {},
   "source": [
    "There is a lot more that you can do with outputs (such as including interactive outputs)\n",
    "with your book. For more information about this, see [the Jupyter Book documentation](https://jupyterbook.org)"
   ]
  }
 ],
 "metadata": {
  "kernelspec": {
   "display_name": "Python 3",
   "language": "python",
   "name": "python3"
  },
  "language_info": {
   "codemirror_mode": {
    "name": "ipython",
    "version": 3
   },
   "file_extension": ".py",
   "mimetype": "text/x-python",
   "name": "python",
   "nbconvert_exporter": "python",
   "pygments_lexer": "ipython3",
   "version": "3.8.0"
  },
  "widgets": {
   "application/vnd.jupyter.widget-state+json": {
    "state": {},
    "version_major": 2,
    "version_minor": 0
   }
  }
 },
 "nbformat": 4,
 "nbformat_minor": 4
}
